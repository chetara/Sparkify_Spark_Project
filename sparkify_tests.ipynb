{
 "cells": [
  {
   "cell_type": "markdown",
   "id": "fad4b2a5",
   "metadata": {},
   "source": [
    "Spark Setup"
   ]
  },
  {
   "cell_type": "code",
   "execution_count": 4,
   "id": "dd5a3cf5",
   "metadata": {},
   "outputs": [],
   "source": [
    "import os\n",
    "from pyspark.sql import SparkSession\n",
    "\n",
    "# Required for Spark on Windows\n",
    "os.environ[\"HADOOP_HOME\"] = \"C:/hadoop\"\n",
    "os.environ[\"SPARK_SUBMIT_OPTS\"] = \"-Dhadoop.home.dir=C:/hadoop\"\n",
    "\n",
    "# Create Spark session\n",
    "spark = SparkSession.builder \\\n",
    "    .appName(\"Sparkify Data Test\") \\\n",
    "    .master(\"local[*]\") \\\n",
    "    .getOrCreate()\n"
   ]
  },
  {
   "cell_type": "markdown",
   "id": "1b0efb83",
   "metadata": {},
   "source": [
    "Load Transformed Tables"
   ]
  },
  {
   "cell_type": "code",
   "execution_count": 5,
   "id": "a44cd51a",
   "metadata": {},
   "outputs": [],
   "source": [
    "songs = spark.read.parquet(\"outputs/songs/\")\n",
    "artists = spark.read.parquet(\"outputs/artists/\")\n",
    "users = spark.read.parquet(\"outputs/users/\")\n",
    "time = spark.read.parquet(\"outputs/time/\")\n",
    "songplays = spark.read.parquet(\"outputs/songplays/\")\n"
   ]
  },
  {
   "cell_type": "markdown",
   "id": "0cf8ee21",
   "metadata": {},
   "source": [
    "Basic Queries"
   ]
  },
  {
   "cell_type": "code",
   "execution_count": 6,
   "id": "94b77f88",
   "metadata": {},
   "outputs": [
    {
     "name": "stdout",
     "output_type": "stream",
     "text": [
      "Top 5 Songs\n",
      "+----------------------------------------------------+----+---------+\n",
      "|title                                               |year|duration |\n",
      "+----------------------------------------------------+----+---------+\n",
      "|I Hold Your Hand In Mine [Live At Royal Albert Hall]|2000|43.36281 |\n",
      "|Sono andati? Fingevo di dormire                     |0   |511.16363|\n",
      "|Setting Fire to Sleeping Giants                     |2004|207.77751|\n",
      "|Erica (2005 Digital Remaster)                       |0   |138.63138|\n",
      "|Rumba De Barcelona                                  |0   |218.38322|\n",
      "+----------------------------------------------------+----+---------+\n",
      "only showing top 5 rows\n",
      "\n",
      "Top 5 Artists\n",
      "+---------------------+---------------------------+\n",
      "|artist_name          |artist_location            |\n",
      "+---------------------+---------------------------+\n",
      "|Wilks                |                           |\n",
      "|Danilo Perez         |Panama                     |\n",
      "|Billie Jo Spears     |Beaumont, TX               |\n",
      "|Tweeterfriendly Music|Burlington, Ontario, Canada|\n",
      "|John Wesley          |Brandon                    |\n",
      "+---------------------+---------------------------+\n",
      "only showing top 5 rows\n",
      "\n",
      "Top 5 Users\n",
      "+-------+----------+---------+------+-----+\n",
      "|user_id|first_name|last_name|gender|level|\n",
      "+-------+----------+---------+------+-----+\n",
      "|     10|    Sylvie|     Cruz|     F| free|\n",
      "|    100|     Adler|  Barrera|     M| free|\n",
      "|    101|    Jayden|      Fox|     M| free|\n",
      "|     11| Christian|   Porter|     F| free|\n",
      "|     12|    Austin|  Rosales|     M| free|\n",
      "+-------+----------+---------+------+-----+\n",
      "only showing top 5 rows\n",
      "\n",
      "Top 5 Songplays\n",
      "+-----------+-------+-------+--------------------+\n",
      "|songplay_id|user_id|song_id|          start_time|\n",
      "+-----------+-------+-------+--------------------+\n",
      "|          0|     26|   NULL|2018-11-14 19:30:...|\n",
      "|          1|     26|   NULL|2018-11-14 19:41:...|\n",
      "|          2|     26|   NULL|2018-11-14 19:45:...|\n",
      "|          3|     61|   NULL|2018-11-14 22:44:...|\n",
      "|          4|     80|   NULL|2018-11-15 00:48:...|\n",
      "+-----------+-------+-------+--------------------+\n",
      "only showing top 5 rows\n",
      "\n"
     ]
    }
   ],
   "source": [
    "print(\"Top 5 Songs\")\n",
    "songs.select(\"title\", \"year\", \"duration\").show(5, truncate=False)\n",
    "\n",
    "print(\"Top 5 Artists\")\n",
    "artists.selectExpr(\"name as artist_name\", \"location as artist_location\").show(5, truncate=False)\n",
    "\n",
    "print(\"Top 5 Users\")\n",
    "users.show(5)\n",
    "\n",
    "print(\"Top 5 Songplays\")\n",
    "songplays.select(\"songplay_id\", \"user_id\", \"song_id\", \"start_time\").show(5)\n"
   ]
  },
  {
   "cell_type": "markdown",
   "id": "d4e55d84",
   "metadata": {},
   "source": [
    " Count Validation"
   ]
  },
  {
   "cell_type": "code",
   "execution_count": 7,
   "id": "435acb4d",
   "metadata": {},
   "outputs": [
    {
     "name": "stdout",
     "output_type": "stream",
     "text": [
      "Song records: 71\n",
      "Artist records: 69\n",
      "User records: 96\n",
      "Time records: 6813\n",
      "Songplays records: 6820\n"
     ]
    }
   ],
   "source": [
    "print(\"Song records:\", songs.count())\n",
    "print(\"Artist records:\", artists.count())\n",
    "print(\"User records:\", users.count())\n",
    "print(\"Time records:\", time.count())\n",
    "print(\"Songplays records:\", songplays.count())\n"
   ]
  }
 ],
 "metadata": {
  "kernelspec": {
   "display_name": ".venv",
   "language": "python",
   "name": "python3"
  },
  "language_info": {
   "codemirror_mode": {
    "name": "ipython",
    "version": 3
   },
   "file_extension": ".py",
   "mimetype": "text/x-python",
   "name": "python",
   "nbconvert_exporter": "python",
   "pygments_lexer": "ipython3",
   "version": "3.13.3"
  }
 },
 "nbformat": 4,
 "nbformat_minor": 5
}
